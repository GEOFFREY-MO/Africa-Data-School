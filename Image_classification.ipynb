{
  "nbformat": 4,
  "nbformat_minor": 0,
  "metadata": {
    "colab": {
      "provenance": [],
      "mount_file_id": "1fg_eokVyV4uTHHVi1CFesJ6cTdS2YA9X",
      "authorship_tag": "ABX9TyPuRx1cts+cZhz+GLw4ZFhV",
      "include_colab_link": true
    },
    "kernelspec": {
      "name": "python3",
      "display_name": "Python 3"
    },
    "language_info": {
      "name": "python"
    }
  },
  "cells": [
    {
      "cell_type": "markdown",
      "metadata": {
        "id": "view-in-github",
        "colab_type": "text"
      },
      "source": [
        "<a href=\"https://colab.research.google.com/github/GEOFFREY-MO/Africa-Data-School/blob/main/Image_classification.ipynb\" target=\"_parent\"><img src=\"https://colab.research.google.com/assets/colab-badge.svg\" alt=\"Open In Colab\"/></a>"
      ]
    },
    {
      "cell_type": "markdown",
      "source": [
        "1. Create a list with the names called image_files\n",
        "The following list has been made for you to simplify this. Note, in practice you would likely store these\n",
        "files in separate folders and simply read all the files in each folder so that you could add/remove files\n",
        "without editing source code."
      ],
      "metadata": {
        "id": "OkkctKX0DP33"
      }
    },
    {
      "cell_type": "markdown",
      "source": [
        "Let us begin by importing necessary libraries"
      ],
      "metadata": {
        "id": "QCxzRoVTE3j_"
      }
    },
    {
      "cell_type": "markdown",
      "source": [
        "Define a function that will be used to calculate the percentages of green, blue and orange"
      ],
      "metadata": {
        "id": "WRa2T-BXFlWI"
      }
    },
    {
      "cell_type": "code",
      "source": [
        "import matplotlib.pyplot as plt\n",
        "from PIL import Image\n",
        "import io"
      ],
      "metadata": {
        "id": "fzFOBSU9Q5Xp"
      },
      "execution_count": null,
      "outputs": []
    },
    {
      "cell_type": "code",
      "source": [
        "image_files = ['farm1.jpeg', 'farm2.jpeg', 'farm3.jpeg', 'farm4.jpeg',\n",
        "'farm5.jpeg', 'farm6.jpeg', 'farm7.jpeg', 'farm8.jpeg',\n",
        "'city1.jpeg', 'city2.jpeg', 'city3.jpeg', 'city4.jpeg',\n",
        "'city5.jpeg', 'city6.jpeg', 'city7.jpeg', 'city8.jpeg',\n",
        "'desert1.jpeg', 'desert2.jpeg', 'desert3.jpeg', 'desert4.jpeg',\n",
        "'desert5.jpeg', 'desert6.jpeg', 'desert7.jpeg', 'desert8.jpeg']"
      ],
      "metadata": {
        "id": "H2rq27VbQ8JO"
      },
      "execution_count": null,
      "outputs": []
    },
    {
      "cell_type": "code",
      "source": [
        "training_target = ['farm'] * 8 + ['city'] * 8 + ['desert'] * 8"
      ],
      "metadata": {
        "id": "wFNZ6EnxREAm"
      },
      "execution_count": null,
      "outputs": []
    },
    {
      "cell_type": "code",
      "source": [
        "def retrieve_image_data(image_file):\n",
        "    with open(image_file, 'rb') as f:\n",
        "        image_data = f.read()\n",
        "        return image_data\n"
      ],
      "metadata": {
        "id": "HYCO7TlpRJtU"
      },
      "execution_count": null,
      "outputs": []
    },
    {
      "cell_type": "code",
      "source": [
        "image_data_list = []"
      ],
      "metadata": {
        "id": "gqGfA0ClRYs-"
      },
      "execution_count": null,
      "outputs": []
    },
    {
      "cell_type": "code",
      "source": [
        "# Retrieve image data for each image file\n",
        "for image_file in image_files:\n",
        "    image_data = retrieve_image_data(image_file)\n",
        "    image_data_list.append(image_data)"
      ],
      "metadata": {
        "id": "pNgFYii8bFOa"
      },
      "execution_count": null,
      "outputs": []
    },
    {
      "cell_type": "code",
      "source": [
        "def calculate_percent_colors(image_data):\n",
        "    image = Image.open(io.BytesIO(image_data))\n",
        "    image = image.convert('RGB')\n",
        "    width, height = image.size\n",
        "    pixels = list(image.getdata())\n",
        "    green_pixels = sum(1 for r, g, b in pixels if g > r and g > b)\n",
        "    blue_pixels = sum(1 for r, g, b in pixels if b > r and b > g)\n",
        "    percent_green = green_pixels / (width * height)\n",
        "    percent_blue = blue_pixels / (width * height)\n",
        "    return percent_green, percent_blue\n"
      ],
      "metadata": {
        "id": "V4iiHBDWSMyr"
      },
      "execution_count": null,
      "outputs": []
    },
    {
      "cell_type": "markdown",
      "source": [
        "**2.Create the scatter plot in the first page Create a scatter plot**\n",
        "\n",
        " using the farm/city/desert image data set where each point represents an image, the x axis is the percent green in the image, and the y axis represents the percent blue. The plot should be titled with x and y axis labels,\n",
        "\n",
        "  a different color for each of the 3 image classes, and a legend showing which class corresponds to which color. Note: this is with 24 images total, so you will likely want to find some way to automate the process of getting this data for the scatterplot. You can use a for loop to do this.\n",
        "  \n",
        "  Get the image file name by reading it from the image_files list from step 1. Then perform image processing to get the percent of blue and the percent of green"
      ],
      "metadata": {
        "id": "AT13tzIS8dcj"
      }
    },
    {
      "cell_type": "code",
      "source": [
        "colors = {'farm': 'green', 'city': 'blue', 'desert': 'orange'}"
      ],
      "metadata": {
        "id": "nWKjNpTbSy_X"
      },
      "execution_count": null,
      "outputs": []
    },
    {
      "cell_type": "code",
      "source": [
        "plt.figure(figsize=(8, 6))\n",
        "\n",
        "for image_data, target in zip(image_data_list, training_target):\n",
        "    percent_green, percent_blue = calculate_percent_colors(image_data)\n",
        "    plt.scatter(percent_green, percent_blue, color=colors[target])\n",
        "\n",
        "plt.xlabel('Percent Green')\n",
        "plt.ylabel('Percent Blue')\n",
        "plt.title('Scattered Image Classification')\n",
        "plt.legend(colors.keys())\n",
        "\n",
        "plt.show()\n"
      ],
      "metadata": {
        "colab": {
          "base_uri": "https://localhost:8080/",
          "height": 564
        },
        "id": "KM2fqFWuTEFE",
        "outputId": "52a4334c-b80e-4783-e851-a066b224179d"
      },
      "execution_count": null,
      "outputs": [
        {
          "output_type": "display_data",
          "data": {
            "text/plain": [
              "<Figure size 800x600 with 1 Axes>"
            ],
            "image/png": "[encoded data removed]"
          },
          "metadata": {}
        }
      ]
    },
    {
      "cell_type": "markdown",
      "source": [
        "**3. Now create an array of strings called training_target with the category of each**"
      ],
      "metadata": {
        "id": "ZE57BJFw9IGY"
      }
    },
    {
      "cell_type": "markdown",
      "source": [
        "Creating the training target"
      ],
      "metadata": {
        "id": "DmqyaxMaeb28"
      }
    },
    {
      "cell_type": "code",
      "source": [
        "training_target = ['farm', 'farm', 'farm', 'farm',\n",
        "                   'farm', 'farm', 'farm', 'farm',\n",
        "                   'city', 'city', 'city', 'city',\n",
        "                   'city', 'city', 'city', 'city',\n",
        "                   'desert', 'desert', 'desert', 'desert',\n",
        "                   'desert', 'desert', 'desert', 'desert']\n"
      ],
      "metadata": {
        "id": "mgHEJCv0TV5u"
      },
      "execution_count": null,
      "outputs": []
    },
    {
      "cell_type": "markdown",
      "source": [
        "4. Create an empty array of zeros called training_data that will eventually store the percent\n",
        "green and percent blue values.\n",
        "You will be filling this soon. Given the needs of your data set (24 samples and 2 columns), it should\n",
        "have 24 rows and 2 columns."
      ],
      "metadata": {
        "id": "3MuHcPT9euSB"
      }
    },
    {
      "cell_type": "code",
      "source": [
        "import numpy as np\n",
        "\n",
        "training_data = np.zeros((24, 2))\n"
      ],
      "metadata": {
        "id": "GRiq2KB2drjH"
      },
      "execution_count": null,
      "outputs": []
    },
    {
      "cell_type": "markdown",
      "source": [
        "5. Now fill the training_data array with the proper values for each image, and observe the\n",
        "values in the array after it is finished.\n",
        "You already have the percent of blue and the percent of green for all images from step 2. Make sure\n",
        "to put those two values in the proper place in the training_data array."
      ],
      "metadata": {
        "id": "yQo0UCq7e4kD"
      }
    },
    {
      "cell_type": "code",
      "source": [
        "for i, image_data in enumerate(image_data_list):\n",
        "    percent_green, percent_blue = calculate_percent_colors(image_data)\n",
        "    training_data[i] = [percent_green, percent_blue]"
      ],
      "metadata": {
        "id": "NbQuePMgey9J"
      },
      "execution_count": null,
      "outputs": []
    },
    {
      "cell_type": "markdown",
      "source": [
        "**6. Create your classifier.**\n",
        "\n",
        "\n",
        "This can often be done in one line. In this case, we suggest using the k-Nearest Neighbors classifier\n",
        "as shown in the tutorial (use k=1), but you can try others if you are interested"
      ],
      "metadata": {
        "id": "EVc1xtgosONa"
      }
    },
    {
      "cell_type": "code",
      "source": [
        "from sklearn.neighbors import KNeighborsClassifier\n",
        "knn = KNeighborsClassifier(n_neighbors = 1)\n",
        "#train the classfier\n",
        "#classifier =KNeighborsClassfier\n",
        "knn.fit(training_data, training_target)\n",
        "new_data_point = [0.7,0.3]\n",
        "predicted_class = knn.predict([new_data_point])\n",
        "\n",
        "print('Pridicted class:', predicted_class)"
      ],
      "metadata": {
        "id": "Kr2yL08NfXP3",
        "colab": {
          "base_uri": "https://localhost:8080/"
        },
        "outputId": "5a5055c0-7006-40b1-975c-3b90d15b0b2c"
      },
      "execution_count": null,
      "outputs": [
        {
          "output_type": "stream",
          "name": "stdout",
          "text": [
            "Pridicted class: ['farm']\n"
          ]
        }
      ]
    },
    {
      "cell_type": "markdown",
      "source": [
        "**7. Train your classifier.**\n",
        "Again, this is often only one line of code where you provide the training data and the training target to\n",
        "the classifier you just created to the classifier’s ‘fit’ or ‘training’ function. For such a small data set, this\n",
        "will be fast, but for larger data sets sometimes this is time consuming.\n",
        "Now you have a trained classifier... great! Now we’ll set up the application for it."
      ],
      "metadata": {
        "id": "ibFYg4wMt4Xt"
      }
    },
    {
      "cell_type": "code",
      "source": [
        "knn.fit(training_data,training_target)"
      ],
      "metadata": {
        "colab": {
          "base_uri": "https://localhost:8080/",
          "height": 75
        },
        "id": "eVYM1tmEtee7",
        "outputId": "1efe8812-f506-49e2-d7af-ed1d2e182005"
      },
      "execution_count": null,
      "outputs": [
        {
          "output_type": "execute_result",
          "data": {
            "text/plain": [
              "KNeighborsClassifier(n_neighbors=3)"
            ],
            "text/html": [
              "<style>#sk-container-id-2 {color: black;background-color: white;}#sk-container-id-2 pre{padding: 0;}#sk-container-id-2 div.sk-toggleable {background-color: white;}#sk-container-id-2 label.sk-toggleable__label {cursor: pointer;display: block;width: 100%;margin-bottom: 0;padding: 0.3em;box-sizing: border-box;text-align: center;}#sk-container-id-2 label.sk-toggleable__label-arrow:before {content: \"▸\";float: left;margin-right: 0.25em;color: #696969;}#sk-container-id-2 label.sk-toggleable__label-arrow:hover:before {color: black;}#sk-container-id-2 div.sk-estimator:hover label.sk-toggleable__label-arrow:before {color: black;}#sk-container-id-2 div.sk-toggleable__content {max-height: 0;max-width: 0;overflow: hidden;text-align: left;background-color: #f0f8ff;}#sk-container-id-2 div.sk-toggleable__content pre {margin: 0.2em;color: black;border-radius: 0.25em;background-color: #f0f8ff;}#sk-container-id-2 input.sk-toggleable__control:checked~div.sk-toggleable__content {max-height: 200px;max-width: 100%;overflow: auto;}#sk-container-id-2 input.sk-toggleable__control:checked~label.sk-toggleable__label-arrow:before {content: \"▾\";}#sk-container-id-2 div.sk-estimator input.sk-toggleable__control:checked~label.sk-toggleable__label {background-color: #d4ebff;}#sk-container-id-2 div.sk-label input.sk-toggleable__control:checked~label.sk-toggleable__label {background-color: #d4ebff;}#sk-container-id-2 input.sk-hidden--visually {border: 0;clip: rect(1px 1px 1px 1px);clip: rect(1px, 1px, 1px, 1px);height: 1px;margin: -1px;overflow: hidden;padding: 0;position: absolute;width: 1px;}#sk-container-id-2 div.sk-estimator {font-family: monospace;background-color: #f0f8ff;border: 1px dotted black;border-radius: 0.25em;box-sizing: border-box;margin-bottom: 0.5em;}#sk-container-id-2 div.sk-estimator:hover {background-color: #d4ebff;}#sk-container-id-2 div.sk-parallel-item::after {content: \"\";width: 100%;border-bottom: 1px solid gray;flex-grow: 1;}#sk-container-id-2 div.sk-label:hover label.sk-toggleable__label {background-color: #d4ebff;}#sk-container-id-2 div.sk-serial::before {content: \"\";position: absolute;border-left: 1px solid gray;box-sizing: border-box;top: 0;bottom: 0;left: 50%;z-index: 0;}#sk-container-id-2 div.sk-serial {display: flex;flex-direction: column;align-items: center;background-color: white;padding-right: 0.2em;padding-left: 0.2em;position: relative;}#sk-container-id-2 div.sk-item {position: relative;z-index: 1;}#sk-container-id-2 div.sk-parallel {display: flex;align-items: stretch;justify-content: center;background-color: white;position: relative;}#sk-container-id-2 div.sk-item::before, #sk-container-id-2 div.sk-parallel-item::before {content: \"\";position: absolute;border-left: 1px solid gray;box-sizing: border-box;top: 0;bottom: 0;left: 50%;z-index: -1;}#sk-container-id-2 div.sk-parallel-item {display: flex;flex-direction: column;z-index: 1;position: relative;background-color: white;}#sk-container-id-2 div.sk-parallel-item:first-child::after {align-self: flex-end;width: 50%;}#sk-container-id-2 div.sk-parallel-item:last-child::after {align-self: flex-start;width: 50%;}#sk-container-id-2 div.sk-parallel-item:only-child::after {width: 0;}#sk-container-id-2 div.sk-dashed-wrapped {border: 1px dashed gray;margin: 0 0.4em 0.5em 0.4em;box-sizing: border-box;padding-bottom: 0.4em;background-color: white;}#sk-container-id-2 div.sk-label label {font-family: monospace;font-weight: bold;display: inline-block;line-height: 1.2em;}#sk-container-id-2 div.sk-label-container {text-align: center;}#sk-container-id-2 div.sk-container {/* jupyter's `normalize.less` sets `[hidden] { display: none; }` but bootstrap.min.css set `[hidden] { display: none !important; }` so we also need the `!important` here to be able to override the default hidden behavior on the sphinx rendered scikit-learn.org. See: https://github.com/scikit-learn/scikit-learn/issues/21755 */display: inline-block !important;position: relative;}#sk-container-id-2 div.sk-text-repr-fallback {display: none;}</style><div id=\"sk-container-id-2\" class=\"sk-top-container\"><div class=\"sk-text-repr-fallback\"><pre>KNeighborsClassifier(n_neighbors=3)</pre><b>In a Jupyter environment, please rerun this cell to show the HTML representation or trust the notebook. <br />On GitHub, the HTML representation is unable to render, please try loading this page with nbviewer.org.</b></div><div class=\"sk-container\" hidden><div class=\"sk-item\"><div class=\"sk-estimator sk-toggleable\"><input class=\"sk-toggleable__control sk-hidden--visually\" id=\"sk-estimator-id-2\" type=\"checkbox\" checked><label for=\"sk-estimator-id-2\" class=\"sk-toggleable__label sk-toggleable__label-arrow\">KNeighborsClassifier</label><div class=\"sk-toggleable__content\"><pre>KNeighborsClassifier(n_neighbors=3)</pre></div></div></div></div></div>"
            ]
          },
          "metadata": {},
          "execution_count": 23
        }
      ]
    },
    {
      "cell_type": "markdown",
      "source": [
        "**8. Now create an empty test_data array and fill it with the proper values for each test image,**\n",
        "and observe the filled array and consider if it matches your expectations based on your\n",
        "observations of the images.\n",
        "test_data should start with zeros and be 3 rows (for three test images) and 2 columns (for % green\n",
        "then % blue for each image). Loop through the three test images to fill in the values of the array"
      ],
      "metadata": {
        "id": "Q_wYyd6oumth"
      }
    },
    {
      "cell_type": "code",
      "source": [
        "import numpy as np"
      ],
      "metadata": {
        "id": "MUn2xfQsuNf3"
      },
      "execution_count": null,
      "outputs": []
    },
    {
      "cell_type": "code",
      "source": [
        "test_image_files = ['test1.jpeg','test2.jpeg','test3.jpeg']\n",
        "test_data = np.zeros((3,2))\n",
        "\n",
        "#fill in the values by looping through the test images\n",
        "for i, test_image_file in enumerate(test_image_files):\n",
        "  test_image_data = retrieve_image_data(test_image_file)\n",
        "  percent_green, percent_blue = calculate_percent_colors(test_image_data)\n",
        "  test_data[i] = [percent_green, percent_blue]\n"
      ],
      "metadata": {
        "id": "Y3RI3zHwvigM"
      },
      "execution_count": null,
      "outputs": []
    },
    {
      "cell_type": "markdown",
      "source": [
        "**9. Predict the class of the test images.**\n",
        "Now predict the classes given the test_data array. This should only take one line of code if the\n",
        "test_data array is prepared"
      ],
      "metadata": {
        "id": "ZtuSWZyfyeJ6"
      }
    },
    {
      "cell_type": "code",
      "source": [
        "predicted_classes = knn.predict(test_data)"
      ],
      "metadata": {
        "id": "SFriJCzTw13D"
      },
      "execution_count": null,
      "outputs": []
    },
    {
      "cell_type": "markdown",
      "source": [
        "10. Print the prediction from the test images and compare with the actual images\n",
        "\n",
        "Make this comparison clear in the output of your code  (e.g. prepend with ‘predicted:’ and\n",
        "\n",
        "‘actual:’). Try to explain any errors if you note any"
      ],
      "metadata": {
        "id": "QxxemCBD0jqX"
      }
    },
    {
      "cell_type": "code",
      "source": [
        "test_target = ['farm','city','desert']\n",
        "for i, test_image_file in enumerate(test_image_files):\n",
        "  test_image_data = retrieve_image_data(test_image_file)\n",
        "  percent_green, percent_blue = calculate_percent_colors(test_image_data)\n",
        "  test_instance = np.array([[percent_green, percent_blue]])\n",
        "  predicted_class = knn.predict(test_instance)[0]\n",
        "  actual_class = test_target[i]\n",
        "  print(f\"Predicted: {predicted_class}, Actual: {actual_class}\")"
      ],
      "metadata": {
        "colab": {
          "base_uri": "https://localhost:8080/"
        },
        "id": "TYEfkSrFy9oZ",
        "outputId": "733c50eb-4200-4945-d84f-f6e9ba9701e8"
      },
      "execution_count": null,
      "outputs": [
        {
          "output_type": "stream",
          "name": "stdout",
          "text": [
            "Predicted: desert, Actual: farm\n",
            "Predicted: farm, Actual: city\n",
            "Predicted: city, Actual: desert\n"
          ]
        }
      ]
    },
    {
      "cell_type": "markdown",
      "source": [
        "**Explanation for the above error in our output**\n",
        "\n",
        "We used classifier's predictions that are not matching the actual classes\n",
        "\n",
        "This may be brought by various possible reasons like\n",
        "\n",
        "*  using features like percent blue and percent green may not be sufficient to pridict the accurate image classes\n",
        "*  The underfitting of the training data, reason being it never generalized welll to the test data.\n",
        "\n",
        "*  Insufficient training data set to improve the classifier's accuracy\n",
        "\n",
        "\n",
        "\n",
        "\n",
        "\n",
        "\n",
        "\n",
        "\n"
      ],
      "metadata": {
        "id": "9VP-Fd2w5Hhk"
      }
    },
    {
      "cell_type": "code",
      "source": [],
      "metadata": {
        "id": "oQyentRk2P7B"
      },
      "execution_count": null,
      "outputs": []
    }
  ]
}